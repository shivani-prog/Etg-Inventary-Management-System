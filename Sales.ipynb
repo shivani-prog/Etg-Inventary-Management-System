{
 "cells": [
  {
   "cell_type": "markdown",
   "id": "3e693f97",
   "metadata": {},
   "source": [
    "# Read Inventary"
   ]
  },
  {
   "cell_type": "code",
   "execution_count": 13,
   "id": "e68edbe1",
   "metadata": {},
   "outputs": [],
   "source": [
    "import json"
   ]
  },
  {
   "cell_type": "code",
   "execution_count": 14,
   "id": "8d4dadd0",
   "metadata": {},
   "outputs": [],
   "source": [
    "fd=open(\"record.json\",\"r\")\n",
    "txt=fd.read()\n",
    "fd.close()\n",
    "record = json.loads(txt)"
   ]
  },
  {
   "cell_type": "code",
   "execution_count": 15,
   "id": "3a1aabff",
   "metadata": {},
   "outputs": [
    {
     "data": {
      "text/plain": [
       "{'1001': {'name': 'A4 Sheets', 'Op': 2, 'qn': 600, 'Dp': 50, 'Sp': 1},\n",
       " '1002': {'name': 'Bed Sheet', 'Op': 800, 'qn': 60, 'Dp': 50, 'Sp': 400},\n",
       " '1003': {'name': 'Sunflower Oil', 'Op': 200, 'qn': 104, 'Dp': 50, 'Sp': 100},\n",
       " '1004': {'name': 'Cabbage', 'Op': 20, 'qn': 60, 'Dp': 50, 'Sp': 10},\n",
       " '1005': {'name': 'Potato', 'Op': 20, 'qn': 120, 'Dp': 50, 'Sp': 10},\n",
       " '1006': {'name': 'Wheat Flour', 'Op': 400, 'qn': 60, 'Dp': 50, 'Sp': 200},\n",
       " '1007': {'name': 'Maida', 'Op': 24, 'qn': 57, 'Dp': 50, 'Sp': 10},\n",
       " '1008': {'name': 'Sugar', 'Op': 36, 'qn': 80, 'Dp': 50, 'Sp': 18},\n",
       " '1009': {'name': 'Ice-cream', 'Op': 340, 'qn': 90, 'Dp': 50, 'Sp': 170},\n",
       " '1010': {'name': 'Onion', 'Op': 40.0, 'qn': 90, 'Dp': 5.0, 'Sp': 38.0},\n",
       " '1014': {'name': 'Peanuts',\n",
       "  'Op': 190.0,\n",
       "  'qn': 300.0,\n",
       "  'Dp': 30.0,\n",
       "  'Sp': 133.0},\n",
       " '1016': {'name': 'Tie', 'Op': 120.0, 'qn': 46.0, 'Dp': 20.0, 'Sp': 96.0},\n",
       " '1015': {'name': 'Saree', 'Op': 300.0, 'qn': 50.0, 'Dp': 20.0, 'Sp': 240.0},\n",
       " '1017': {'name': 'Biscuits', 'Op': 40.0, 'qn': 5.0, 'Dp': 5.0, 'Sp': 38.0},\n",
       " '1018': {'name': 'Noodles', 'Op': 46.0, 'qn': 120.0, 'Dp': 10.0, 'Sp': 41.4},\n",
       " '1019': {'name': 'Umbrella',\n",
       "  'Op': 450.0,\n",
       "  'qn': 120.0,\n",
       "  'Dp': 20.0,\n",
       "  'Sp': 360.0},\n",
       " '1020': {'name': 'Piggy bank', 'Op': 40.0, 'qn': 47.0, 'Dp': 5.0, 'Sp': 38.0},\n",
       " '1021': {'name': 'Dream Cream',\n",
       "  'Op': 35.0,\n",
       "  'qn': 100.0,\n",
       "  'Dp': 8.0,\n",
       "  'Sp': 32.2},\n",
       " '1022': {'name': 'Pen pencil',\n",
       "  'Op': 30.0,\n",
       "  'qn': 160.0,\n",
       "  'Dp': 2.0,\n",
       "  'Sp': 29.4},\n",
       " '1023': {'name': 'Papad', 'Op': 60.0, 'qn': 200.0, 'Dp': 4.0, 'Sp': 57.6},\n",
       " '1025': {'name': 'Usha Fan', 'Op': 560.0, 'qn': 2.0, 'Dp': 2.0, 'Sp': 548.8},\n",
       " '1026': {'name': 'Shirt', 'Op': 300.0, 'qn': 120.0, 'Dp': 30.0, 'Sp': 210.0},\n",
       " '1027': {'name': 'Red Velvet',\n",
       "  'Op': 120.0,\n",
       "  'qn': 100.0,\n",
       "  'Dp': 5.0,\n",
       "  'Sp': 114.0},\n",
       " '1029': {'name': 'Donut', 'Op': 120.0, 'qn': 100.0, 'Dp': 5.0, 'Sp': 114.0},\n",
       " '1030': {'name': 'Cream', 'Op': 120.0, 'qn': 100.0, 'Dp': 10.0, 'Sp': 108.0},\n",
       " '1011': {'name': 'Blanket', 'Op': 500.0, 'qn': 30.0, 'Dp': 30.0, 'Sp': 350.0},\n",
       " '1012': {'name': 'Moong Dal',\n",
       "  'Op': 106.0,\n",
       "  'qn': 200.0,\n",
       "  'Dp': 20.0,\n",
       "  'Sp': 84.8},\n",
       " '1013': {'name': 'Dettol', 'Op': 60.0, 'qn': 70.0, 'Dp': 20.0, 'Sp': 48.0},\n",
       " '1024': {'name': 'Cholate Sip',\n",
       "  'Op': 40.0,\n",
       "  'qn': 200.0,\n",
       "  'Dp': 20.0,\n",
       "  'Sp': 32.0},\n",
       " '1028': {'name': 'Rice', 'Op': 400.0, 'qn': 120.0, 'Dp': 20.0, 'Sp': 320.0}}"
      ]
     },
     "execution_count": 15,
     "metadata": {},
     "output_type": "execute_result"
    }
   ],
   "source": [
    "record"
   ]
  },
  {
   "cell_type": "markdown",
   "id": "be28b49d",
   "metadata": {},
   "source": [
    "# Purchase"
   ]
  },
  {
   "cell_type": "code",
   "execution_count": 6,
   "id": "b3cdc483",
   "metadata": {},
   "outputs": [
    {
     "name": "stdout",
     "output_type": "stream",
     "text": [
      "Welcome to Discount Bazaar!!!\n",
      "Purchase Your Goods\n",
      "Choose \n",
      " 1)View Product\n",
      " 2)Purchase\n",
      " 3)Exit2\n",
      "Enter the product_Id: 1014\n",
      "Enter the quantity: 2\n",
      "Product:  Peanuts\n",
      "Price:₹  133.0\n",
      "------------------------------------------------\n",
      "Billing Amount: ₹ 266.0\n",
      "Amount Saved:₹ 57.0\n"
     ]
    }
   ],
   "source": [
    "print('Welcome to Discount Bazaar!!!')\n",
    "print('Purchase Your Goods')\n",
    "choice=input(\"Choose \\n 1)View Product\\n 2)Purchase\\n 3)Exit\")\n",
    "if (choice==\"1\"):\n",
    "    print(\"Products currently present:-\")\n",
    "    print(record)\n",
    "elif(choice==\"2\"):\n",
    "    prod_id   = str(input(\"Enter the product_Id: \"))\n",
    "    qn = int(input(\"Enter the quantity: \"))\n",
    "    print(\"Product: \", record[prod_id]['name'])\n",
    "    print(\"Price:₹ \", record[prod_id]['Sp'])\n",
    "    print(\"------------------------------------------------\")\n",
    "    print(\"Billing Amount: ₹\", record[prod_id]['Sp'] * qn)\n",
    "    print(\"Amount Saved:₹\",record[prod_id]['Op']-record[prod_id]['Sp'])\n",
    "    record[prod_id]['qn'] = record[prod_id]['qn'] - qn\n",
    "elif(choice==\"3\"):\n",
    "    print(\"Thank You for Shopping with us\")\n",
    "    exit()\n",
    "    \n",
    "else:  \n",
    "        print(\"Oops! Incorrect Choice.\")  \n",
    "        exit()\n",
    "\n"
   ]
  },
  {
   "cell_type": "markdown",
   "id": "99339bdc",
   "metadata": {},
   "source": [
    "# Sales"
   ]
  },
  {
   "cell_type": "code",
   "execution_count": 7,
   "id": "32bf5f64",
   "metadata": {},
   "outputs": [],
   "source": [
    "js = json.dumps(record)\n",
    "fd = open(\"Sales.json\",'w')\n",
    "fd.write(js)\n",
    "fd.close()"
   ]
  },
  {
   "cell_type": "code",
   "execution_count": 8,
   "id": "5510bffa",
   "metadata": {},
   "outputs": [],
   "source": [
    "Sale={'prod_id' : prod_id, 'qn' : qn, 'Name':record[prod_id]['name'],'Total Amt': record[prod_id]['Sp'] * qn}\n",
    "js = json.dumps(Sale)\n",
    "fd = open(\"Sales.json\",'w')\n",
    "fd.write(js)\n",
    "fd.close()"
   ]
  },
  {
   "cell_type": "code",
   "execution_count": 11,
   "id": "6c8b50fa",
   "metadata": {},
   "outputs": [],
   "source": [
    "fd=open(\"Sales.json\",\"r\")\n",
    "r=fd.read()\n",
    "fd.close()\n",
    "Purchase= json.loads(r)"
   ]
  },
  {
   "cell_type": "code",
   "execution_count": 12,
   "id": "f1d5d828",
   "metadata": {},
   "outputs": [
    {
     "data": {
      "text/plain": [
       "{'prod_id': '1014', 'qn': 2, 'Name': 'Peanuts', 'Total Amt': 266.0}"
      ]
     },
     "execution_count": 12,
     "metadata": {},
     "output_type": "execute_result"
    }
   ],
   "source": [
    "Purchase"
   ]
  },
  {
   "cell_type": "code",
   "execution_count": null,
   "id": "8ae889f6",
   "metadata": {},
   "outputs": [],
   "source": []
  }
 ],
 "metadata": {
  "kernelspec": {
   "display_name": "Python 3",
   "language": "python",
   "name": "python3"
  },
  "language_info": {
   "codemirror_mode": {
    "name": "ipython",
    "version": 3
   },
   "file_extension": ".py",
   "mimetype": "text/x-python",
   "name": "python",
   "nbconvert_exporter": "python",
   "pygments_lexer": "ipython3",
   "version": "3.8.8"
  }
 },
 "nbformat": 4,
 "nbformat_minor": 5
}
