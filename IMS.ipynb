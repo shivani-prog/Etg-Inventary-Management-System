{
 "cells": [
  {
   "cell_type": "markdown",
   "id": "03eb2b8c",
   "metadata": {},
   "source": [
    "# Read Inventary"
   ]
  },
  {
   "cell_type": "code",
   "execution_count": 16,
   "id": "72c4c1a3",
   "metadata": {},
   "outputs": [],
   "source": [
    "import json"
   ]
  },
  {
   "cell_type": "code",
   "execution_count": 2,
   "id": "5af6e48e",
   "metadata": {},
   "outputs": [],
   "source": [
    "fd=open(\"record.json\",\"r\")\n",
    "txt=fd.read()\n",
    "fd.close()\n",
    "record = json.loads(txt)"
   ]
  },
  {
   "cell_type": "code",
   "execution_count": 3,
   "id": "d8d247fe",
   "metadata": {},
   "outputs": [
    {
     "data": {
      "text/plain": [
       "'{\"1001\": {\"name\": \"A4 Sheets\", \"Op\": 2, \"qn\": 600, \"Dp\": 50, \"Sp\": 1}, \"1002\": {\"name\": \"Bed Sheet\", \"Op\": 800, \"qn\": 60, \"Dp\": 50, \"Sp\": 400}, \"1003\": {\"name\": \"Sunflower Oil\", \"Op\": 200, \"qn\": 104, \"Dp\": 50, \"Sp\": 100}, \"1004\": {\"name\": \"Cabbage\", \"Op\": 20, \"qn\": 60, \"Dp\": 50, \"Sp\": 10}, \"1005\": {\"name\": \"Potato\", \"Op\": 20, \"qn\": 120, \"Dp\": 50, \"Sp\": 10}, \"1006\": {\"name\": \"Wheat Flour\", \"Op\": 400, \"qn\": 60, \"Dp\": 50, \"Sp\": 200}, \"1007\": {\"name\": \"Maida\", \"Op\": 24, \"qn\": 57, \"Dp\": 50, \"Sp\": 10}, \"1008\": {\"name\": \"Sugar\", \"Op\": 36, \"qn\": 80, \"Dp\": 50, \"Sp\": 18}, \"1009\": {\"name\": \"Ice-cream\", \"Op\": 340, \"qn\": 90, \"Dp\": 50, \"Sp\": 170},\"1010\": {\"name\": \"Onion\", \"Op\": 40.0, \"qn\": 90, \"Dp\": 5.0, \"Sp\": 38.0} ,\"1014\": {\"name\": \"Peanuts\", \"Op\": 190.0, \"qn\": 300.0, \"Dp\": 30.0, \"Sp\": 133.0}, \"1016\": {\"name\": \"Tie\", \"Op\": 120.0, \"qn\": 46.0, \"Dp\": 20.0, \"Sp\": 96.0}, \"1015\": {\"name\": \"Saree\", \"Op\": 300.0, \"qn\": 50.0, \"Dp\": 20.0, \"Sp\": 240.0}, \"1017\": {\"name\": \"Biscuits\", \"Op\": 40.0, \"qn\": 5.0, \"Dp\": 5.0, \"Sp\": 38.0}, \"1018\": {\"name\": \"Noodles\", \"Op\": 46.0, \"qn\": 120.0, \"Dp\": 10.0, \"Sp\": 41.4}, \"1019\": {\"name\": \"Umbrella\", \"Op\": 450.0, \"qn\": 120.0, \"Dp\": 20.0, \"Sp\": 360.0}, \"1020\": {\"name\": \"Piggy bank\", \"Op\": 40.0, \"qn\": 47.0, \"Dp\": 5.0, \"Sp\": 38.0}, \"1021\": {\"name\": \"Dream Cream\", \"Op\": 35.0, \"qn\": 100.0, \"Dp\": 8.0, \"Sp\": 32.2}, \"1022\": {\"name\": \"Pen pencil\", \"Op\": 30.0, \"qn\": 160.0, \"Dp\": 2.0, \"Sp\": 29.4}, \"1023\": {\"name\": \"Papad\", \"Op\": 60.0, \"qn\": 200.0, \"Dp\": 4.0, \"Sp\": 57.6}, \"1025\": {\"name\": \"Usha Fan\", \"Op\": 560.0, \"qn\": 2.0, \"Dp\": 2.0, \"Sp\": 548.8}, \"1026\": {\"name\": \"Shirt\", \"Op\": 300.0, \"qn\": 120.0, \"Dp\": 30.0, \"Sp\": 210.0}, \"1027\": {\"name\": \"Red Velvet\", \"Op\": 120.0, \"qn\": 100.0, \"Dp\": 5.0, \"Sp\": 114.0}, \"1029\": {\"name\": \"Donut\", \"Op\": 120.0, \"qn\": 100.0, \"Dp\": 5.0, \"Sp\": 114.0}, \"1030\": {\"name\": \"Cream\", \"Op\": 120.0, \"qn\": 100.0, \"Dp\": 10.0, \"Sp\": 108.0}}'"
      ]
     },
     "execution_count": 3,
     "metadata": {},
     "output_type": "execute_result"
    }
   ],
   "source": [
    "txt\n"
   ]
  },
  {
   "cell_type": "markdown",
   "id": "380edc68",
   "metadata": {},
   "source": [
    "# Add Product"
   ]
  },
  {
   "cell_type": "code",
   "execution_count": 11,
   "id": "e5909211",
   "metadata": {},
   "outputs": [
    {
     "name": "stdout",
     "output_type": "stream",
     "text": [
      "Enter product id:1031\n",
      "Enter name:Powder\n",
      "Enter Original price:₹30\n",
      "Enter quantity:120\n",
      "Enter Discount Percentage:%5\n",
      "Selling Price:₹ 28.5\n"
     ]
    }
   ],
   "source": [
    "prod_id = str(input(\"Enter product id:\"))\n",
    "name = str(input(\"Enter name:\"))\n",
    "Op = float(input(\"Enter Original price:₹\"))\n",
    "qn = float(input(\"Enter quantity:\"))\n",
    "Dp = float(input(\"Enter Discount Percentage:%\"))\n",
    "Amt = (Op*Dp)/100\n",
    "Sp = Op - Amt\n",
    "print(\"Selling Price:₹\",Sp)\n",
    "record[prod_id] = {'name': name, 'Op': Op, 'qn': qn,'Dp': Dp,'Sp': Sp}\n",
    "js = json.dumps(record)\n",
    "fd = open(\"record.json\",'w')\n",
    "fd.write(js)\n",
    "fd.close()"
   ]
  },
  {
   "cell_type": "markdown",
   "id": "45c1bb2c",
   "metadata": {},
   "source": [
    "# Delete Product"
   ]
  },
  {
   "cell_type": "code",
   "execution_count": 13,
   "id": "0cc876b4",
   "metadata": {},
   "outputs": [
    {
     "name": "stdout",
     "output_type": "stream",
     "text": [
      "Enter Product ID:1031\n",
      "Product Deleted 1031\n"
     ]
    }
   ],
   "source": [
    "prod_id=str(input(\"Enter Product ID:\"))\n",
    "del record[prod_id]\n",
    "print(\"Product Deleted\",prod_id)\n",
    "    \n",
    "\n",
    "\n",
    " \n",
    "    "
   ]
  },
  {
   "cell_type": "code",
   "execution_count": 14,
   "id": "9cff9dbd",
   "metadata": {},
   "outputs": [
    {
     "data": {
      "text/plain": [
       "{'1001': {'name': 'A4 Sheets', 'Op': 2, 'qn': 600, 'Dp': 50, 'Sp': 1},\n",
       " '1002': {'name': 'Bed Sheet', 'Op': 800, 'qn': 60, 'Dp': 50, 'Sp': 400},\n",
       " '1003': {'name': 'Sunflower Oil', 'Op': 200, 'qn': 104, 'Dp': 50, 'Sp': 100},\n",
       " '1004': {'name': 'Cabbage', 'Op': 20, 'qn': 60, 'Dp': 50, 'Sp': 10},\n",
       " '1005': {'name': 'Potato', 'Op': 20, 'qn': 120, 'Dp': 50, 'Sp': 10},\n",
       " '1006': {'name': 'Wheat Flour', 'Op': 400, 'qn': 60, 'Dp': 50, 'Sp': 200},\n",
       " '1007': {'name': 'Maida', 'Op': 24, 'qn': 57, 'Dp': 50, 'Sp': 10},\n",
       " '1008': {'name': 'Sugar', 'Op': 36, 'qn': 80, 'Dp': 50, 'Sp': 18},\n",
       " '1009': {'name': 'Ice-cream', 'Op': 340, 'qn': 90, 'Dp': 50, 'Sp': 170},\n",
       " '1010': {'name': 'Onion', 'Op': 40.0, 'qn': 90, 'Dp': 5.0, 'Sp': 38.0},\n",
       " '1014': {'name': 'Peanuts',\n",
       "  'Op': 190.0,\n",
       "  'qn': 300.0,\n",
       "  'Dp': 30.0,\n",
       "  'Sp': 133.0},\n",
       " '1016': {'name': 'Tie', 'Op': 120.0, 'qn': 46.0, 'Dp': 20.0, 'Sp': 96.0},\n",
       " '1015': {'name': 'Saree', 'Op': 300.0, 'qn': 50.0, 'Dp': 20.0, 'Sp': 240.0},\n",
       " '1017': {'name': 'Biscuits', 'Op': 40.0, 'qn': 5.0, 'Dp': 5.0, 'Sp': 38.0},\n",
       " '1018': {'name': 'Noodles', 'Op': 46.0, 'qn': 120.0, 'Dp': 10.0, 'Sp': 41.4},\n",
       " '1019': {'name': 'Umbrella',\n",
       "  'Op': 450.0,\n",
       "  'qn': 120.0,\n",
       "  'Dp': 20.0,\n",
       "  'Sp': 360.0},\n",
       " '1020': {'name': 'Piggy bank', 'Op': 40.0, 'qn': 47.0, 'Dp': 5.0, 'Sp': 38.0},\n",
       " '1021': {'name': 'Dream Cream',\n",
       "  'Op': 35.0,\n",
       "  'qn': 100.0,\n",
       "  'Dp': 8.0,\n",
       "  'Sp': 32.2},\n",
       " '1022': {'name': 'Pen pencil',\n",
       "  'Op': 30.0,\n",
       "  'qn': 160.0,\n",
       "  'Dp': 2.0,\n",
       "  'Sp': 29.4},\n",
       " '1023': {'name': 'Papad', 'Op': 60.0, 'qn': 200.0, 'Dp': 4.0, 'Sp': 57.6},\n",
       " '1025': {'name': 'Usha Fan', 'Op': 560.0, 'qn': 2.0, 'Dp': 2.0, 'Sp': 548.8},\n",
       " '1026': {'name': 'Shirt', 'Op': 300.0, 'qn': 120.0, 'Dp': 30.0, 'Sp': 210.0},\n",
       " '1027': {'name': 'Red Velvet',\n",
       "  'Op': 120.0,\n",
       "  'qn': 100.0,\n",
       "  'Dp': 5.0,\n",
       "  'Sp': 114.0},\n",
       " '1029': {'name': 'Donut', 'Op': 120.0, 'qn': 100.0, 'Dp': 5.0, 'Sp': 114.0},\n",
       " '1030': {'name': 'Cream', 'Op': 120.0, 'qn': 100.0, 'Dp': 10.0, 'Sp': 108.0},\n",
       " '1011': {'name': 'Blanket', 'Op': 500.0, 'qn': 30.0, 'Dp': 30.0, 'Sp': 350.0},\n",
       " '1012': {'name': 'Moong Dal',\n",
       "  'Op': 106.0,\n",
       "  'qn': 200.0,\n",
       "  'Dp': 20.0,\n",
       "  'Sp': 84.8},\n",
       " '1013': {'name': 'Dettol', 'Op': 60.0, 'qn': 70.0, 'Dp': 20.0, 'Sp': 48.0},\n",
       " '1024': {'name': 'Cholate Sip',\n",
       "  'Op': 40.0,\n",
       "  'qn': 200.0,\n",
       "  'Dp': 20.0,\n",
       "  'Sp': 32.0},\n",
       " '1028': {'name': 'Rice', 'Op': 400.0, 'qn': 120.0, 'Dp': 20.0, 'Sp': 320.0}}"
      ]
     },
     "execution_count": 14,
     "metadata": {},
     "output_type": "execute_result"
    }
   ],
   "source": [
    "record"
   ]
  },
  {
   "cell_type": "markdown",
   "id": "cf19f899",
   "metadata": {},
   "source": [
    "# Update Record file"
   ]
  },
  {
   "cell_type": "code",
   "execution_count": 15,
   "id": "1b93aaf0",
   "metadata": {},
   "outputs": [],
   "source": [
    "js = json.dumps(record)\n",
    "\n",
    "fd = open(\"record.json\",'w')\n",
    "fd.write(js)\n",
    "fd.close()"
   ]
  },
  {
   "cell_type": "code",
   "execution_count": null,
   "id": "cfec9d01",
   "metadata": {},
   "outputs": [],
   "source": []
  }
 ],
 "metadata": {
  "kernelspec": {
   "display_name": "Python 3",
   "language": "python",
   "name": "python3"
  },
  "language_info": {
   "codemirror_mode": {
    "name": "ipython",
    "version": 3
   },
   "file_extension": ".py",
   "mimetype": "text/x-python",
   "name": "python",
   "nbconvert_exporter": "python",
   "pygments_lexer": "ipython3",
   "version": "3.8.8"
  }
 },
 "nbformat": 4,
 "nbformat_minor": 5
}
